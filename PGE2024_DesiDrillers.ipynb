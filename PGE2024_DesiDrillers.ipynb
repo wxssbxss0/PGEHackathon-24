{
 "cells": [
  {
   "cell_type": "markdown",
   "metadata": {},
   "source": [
    "### Import Packages"
   ]
  },
  {
   "cell_type": "code",
   "execution_count": 1,
   "metadata": {
    "ExecuteTime": {
     "end_time": "2024-01-21T03:18:36.298457Z",
     "start_time": "2024-01-21T03:18:36.293847Z"
    }
   },
   "outputs": [
    {
     "name": "stderr",
     "output_type": "stream",
     "text": [
      "C:\\Users\\Owner\\AppData\\Local\\Temp\\ipykernel_5220\\3650819706.py:2: DeprecationWarning: \n",
      "Pyarrow will become a required dependency of pandas in the next major release of pandas (pandas 3.0),\n",
      "(to allow more performant data types, such as the Arrow string type, and better interoperability with other libraries)\n",
      "but was not found to be installed on your system.\n",
      "If this would cause problems for you,\n",
      "please provide us feedback at https://github.com/pandas-dev/pandas/issues/54466\n",
      "        \n",
      "  import pandas as pd\n"
     ]
    }
   ],
   "source": [
    "import numpy as np\n",
    "import pandas as pd\n",
    "import matplotlib.pyplot as plt\n",
    "import seaborn as sns\n",
    "import os\n",
    "import warnings\n",
    "from scipy import stats  # Add this import statement\n",
    "warnings.filterwarnings('ignore')\n",
    "import matplotlib.colors as plt_colors\n",
    "from mpl_toolkits.axes_grid1 import make_axes_locatable\n",
    "#import plotly.express as px  # Uncomment for later\n",
    "#import plotly.graph_objects as go # Uncomment for later\n",
    "from numpy import nan\n",
    "from numpy import isnan\n",
    "import random\n",
    "random.seed(1234567)\n",
    "\n",
    "from numpy import mean\n",
    "from numpy import std\n",
    "from pandas import read_csv\n",
    "from sklearn.impute import KNNImputer\n",
    "from sklearn.impute import SimpleImputer\n",
    "from sklearn.model_selection import cross_val_score\n",
    "from sklearn.model_selection import RepeatedStratifiedKFold\n",
    "from sklearn.pipeline import Pipeline\n",
    "\n",
    "from sklearn.preprocessing import LabelEncoder\n",
    "from sklearn.experimental import enable_iterative_imputer\n",
    "from sklearn.impute import IterativeImputer\n",
    "from sklearn.ensemble import RandomForestRegressor, RandomForestClassifier\n",
    "from sklearn.linear_model import LinearRegression\n",
    "\n",
    "from sklearn.metrics import accuracy_score\n",
    "from sklearn.model_selection import train_test_split                \n",
    "from sklearn.metrics import mean_squared_error, r2_score\n",
    "from sklearn import linear_model\n",
    "from sklearn.linear_model import Lasso\n",
    "from sklearn.linear_model import Ridge\n",
    "from sklearn.tree import DecisionTreeRegressor\n",
    "from sklearn.ensemble import RandomForestRegressor\n",
    "from sklearn.model_selection import train_test_split\n",
    "from sklearn.neighbors import KNeighborsClassifier\n",
    "from sklearn.metrics import accuracy_score\n",
    "from sklearn.model_selection import train_test_split\n",
    "from sklearn.neighbors import KNeighborsClassifier\n",
    "from sklearn.metrics import accuracy_score"
   ]
  },
  {
   "cell_type": "markdown",
   "metadata": {},
   "source": [
    "# Load Data"
   ]
  },
  {
   "cell_type": "code",
   "execution_count": 4,
   "metadata": {
    "ExecuteTime": {
     "end_time": "2024-01-21T02:22:59.828856Z",
     "start_time": "2024-01-21T02:22:59.822927Z"
    }
   },
   "outputs": [],
   "source": [
    "df = pd.read_csv(\"HackathonData2024 (2).csv\")                  # load the comma delimited data file\n",
    "df = df.iloc[:,:]                           # copy all rows and columns 1 through 8, note 0 column is removed"
   ]
  },
  {
   "cell_type": "markdown",
   "metadata": {},
   "source": [
    "### Functions\n",
    "\n",
    "The following functions will be used in the workflow."
   ]
  },
  {
   "cell_type": "code",
   "execution_count": 5,
   "metadata": {
    "ExecuteTime": {
     "end_time": "2024-01-21T02:23:00.141773Z",
     "start_time": "2024-01-21T02:23:00.139699Z"
    }
   },
   "outputs": [],
   "source": [
    "# PLOT FUNCTION, X FUNCTION, Y FUNCTION..."
   ]
  },
  {
   "cell_type": "markdown",
   "metadata": {},
   "source": [
    "### Basic Data Checking and Visualization"
   ]
  },
  {
   "cell_type": "code",
   "execution_count": 6,
   "metadata": {
    "ExecuteTime": {
     "end_time": "2024-01-21T02:23:00.412789Z",
     "start_time": "2024-01-21T02:23:00.366997Z"
    }
   },
   "outputs": [
    {
     "data": {
      "text/html": [
       "<div>\n",
       "<style scoped>\n",
       "    .dataframe tbody tr th:only-of-type {\n",
       "        vertical-align: middle;\n",
       "    }\n",
       "\n",
       "    .dataframe tbody tr th {\n",
       "        vertical-align: top;\n",
       "    }\n",
       "\n",
       "    .dataframe thead th {\n",
       "        text-align: right;\n",
       "    }\n",
       "</style>\n",
       "<table border=\"1\" class=\"dataframe\">\n",
       "  <thead>\n",
       "    <tr style=\"text-align: right;\">\n",
       "      <th></th>\n",
       "      <th>count</th>\n",
       "      <th>mean</th>\n",
       "      <th>std</th>\n",
       "      <th>min</th>\n",
       "      <th>25%</th>\n",
       "      <th>50%</th>\n",
       "      <th>75%</th>\n",
       "      <th>max</th>\n",
       "    </tr>\n",
       "  </thead>\n",
       "  <tbody>\n",
       "    <tr>\n",
       "      <th>Well ID</th>\n",
       "      <td>348.0</td>\n",
       "      <td>1.800345e+02</td>\n",
       "      <td>1.031601e+02</td>\n",
       "      <td>1.000000</td>\n",
       "      <td>9.150000e+01</td>\n",
       "      <td>1.805000e+02</td>\n",
       "      <td>2.692500e+02</td>\n",
       "      <td>3.560000e+02</td>\n",
       "    </tr>\n",
       "    <tr>\n",
       "      <th>Avg Pump Difference</th>\n",
       "      <td>333.0</td>\n",
       "      <td>2.246405e+01</td>\n",
       "      <td>2.432724e+01</td>\n",
       "      <td>-12.690000</td>\n",
       "      <td>3.860000e+00</td>\n",
       "      <td>1.737000e+01</td>\n",
       "      <td>3.433000e+01</td>\n",
       "      <td>1.172600e+02</td>\n",
       "    </tr>\n",
       "    <tr>\n",
       "      <th>Lateral Length</th>\n",
       "      <td>348.0</td>\n",
       "      <td>1.111523e+04</td>\n",
       "      <td>2.408755e+03</td>\n",
       "      <td>2300.000000</td>\n",
       "      <td>1.000000e+04</td>\n",
       "      <td>1.030000e+04</td>\n",
       "      <td>1.270000e+04</td>\n",
       "      <td>1.820000e+04</td>\n",
       "    </tr>\n",
       "    <tr>\n",
       "      <th>TVD</th>\n",
       "      <td>344.0</td>\n",
       "      <td>9.082369e+03</td>\n",
       "      <td>8.542595e+02</td>\n",
       "      <td>7345.000000</td>\n",
       "      <td>8.340000e+03</td>\n",
       "      <td>8.912500e+03</td>\n",
       "      <td>9.968750e+03</td>\n",
       "      <td>1.067500e+04</td>\n",
       "    </tr>\n",
       "    <tr>\n",
       "      <th>DELAYED</th>\n",
       "      <td>348.0</td>\n",
       "      <td>7.183908e-01</td>\n",
       "      <td>4.504314e-01</td>\n",
       "      <td>0.000000</td>\n",
       "      <td>0.000000e+00</td>\n",
       "      <td>1.000000e+00</td>\n",
       "      <td>1.000000e+00</td>\n",
       "      <td>1.000000e+00</td>\n",
       "    </tr>\n",
       "    <tr>\n",
       "      <th>BOUND_CODE</th>\n",
       "      <td>348.0</td>\n",
       "      <td>9.893037e+06</td>\n",
       "      <td>2.814065e+06</td>\n",
       "      <td>1110.000000</td>\n",
       "      <td>1.000100e+07</td>\n",
       "      <td>1.101100e+07</td>\n",
       "      <td>1.111100e+07</td>\n",
       "      <td>1.111111e+07</td>\n",
       "    </tr>\n",
       "    <tr>\n",
       "      <th>PARENT_CODEV_1050_WELL_COUNT</th>\n",
       "      <td>348.0</td>\n",
       "      <td>3.218391e+00</td>\n",
       "      <td>2.062009e+00</td>\n",
       "      <td>0.000000</td>\n",
       "      <td>2.000000e+00</td>\n",
       "      <td>3.000000e+00</td>\n",
       "      <td>4.000000e+00</td>\n",
       "      <td>1.100000e+01</td>\n",
       "    </tr>\n",
       "    <tr>\n",
       "      <th>PARENT_IN_ZONE_MIN_HYPOT</th>\n",
       "      <td>259.0</td>\n",
       "      <td>1.495463e+03</td>\n",
       "      <td>7.885431e+02</td>\n",
       "      <td>237.000000</td>\n",
       "      <td>7.680000e+02</td>\n",
       "      <td>1.225000e+03</td>\n",
       "      <td>2.300000e+03</td>\n",
       "      <td>2.854000e+03</td>\n",
       "    </tr>\n",
       "    <tr>\n",
       "      <th>PARENT_OUT_ZONE_MIN_HYPOT</th>\n",
       "      <td>318.0</td>\n",
       "      <td>1.299242e+03</td>\n",
       "      <td>7.400094e+02</td>\n",
       "      <td>151.000000</td>\n",
       "      <td>7.745000e+02</td>\n",
       "      <td>1.096000e+03</td>\n",
       "      <td>1.832750e+03</td>\n",
       "      <td>2.925000e+03</td>\n",
       "    </tr>\n",
       "    <tr>\n",
       "      <th>PARENT_IN_ZONE_MIN_MAP_DIST</th>\n",
       "      <td>259.0</td>\n",
       "      <td>1.473718e+03</td>\n",
       "      <td>7.966494e+02</td>\n",
       "      <td>35.000000</td>\n",
       "      <td>7.650000e+02</td>\n",
       "      <td>1.217000e+03</td>\n",
       "      <td>2.292000e+03</td>\n",
       "      <td>2.820000e+03</td>\n",
       "    </tr>\n",
       "    <tr>\n",
       "      <th>PARENT_OUT_ZONE_MIN_MAP_DIST</th>\n",
       "      <td>318.0</td>\n",
       "      <td>7.945126e+02</td>\n",
       "      <td>9.930239e+02</td>\n",
       "      <td>0.000000</td>\n",
       "      <td>4.425000e+01</td>\n",
       "      <td>2.140000e+02</td>\n",
       "      <td>1.684000e+03</td>\n",
       "      <td>2.657000e+03</td>\n",
       "    </tr>\n",
       "    <tr>\n",
       "      <th>PARENT_1050_AVG_WELL_AGE</th>\n",
       "      <td>199.0</td>\n",
       "      <td>2.690191e+03</td>\n",
       "      <td>1.593382e+03</td>\n",
       "      <td>126.000000</td>\n",
       "      <td>1.169000e+03</td>\n",
       "      <td>2.496000e+03</td>\n",
       "      <td>4.029500e+03</td>\n",
       "      <td>6.575000e+03</td>\n",
       "    </tr>\n",
       "    <tr>\n",
       "      <th>PARENT_1050_MEDIAN_WELL_AGE</th>\n",
       "      <td>199.0</td>\n",
       "      <td>2.678774e+03</td>\n",
       "      <td>1.632096e+03</td>\n",
       "      <td>125.500000</td>\n",
       "      <td>1.036750e+03</td>\n",
       "      <td>2.495500e+03</td>\n",
       "      <td>3.984750e+03</td>\n",
       "      <td>6.572000e+03</td>\n",
       "    </tr>\n",
       "    <tr>\n",
       "      <th>PARENT_1050_WELL_COUNT</th>\n",
       "      <td>348.0</td>\n",
       "      <td>1.330460e+00</td>\n",
       "      <td>1.620294e+00</td>\n",
       "      <td>0.000000</td>\n",
       "      <td>0.000000e+00</td>\n",
       "      <td>1.000000e+00</td>\n",
       "      <td>2.000000e+00</td>\n",
       "      <td>9.000000e+00</td>\n",
       "    </tr>\n",
       "    <tr>\n",
       "      <th>PARENT_3000_AVG_HYPOT_DIST</th>\n",
       "      <td>321.0</td>\n",
       "      <td>2.175642e+03</td>\n",
       "      <td>3.326649e+02</td>\n",
       "      <td>1482.000000</td>\n",
       "      <td>1.910000e+03</td>\n",
       "      <td>2.141000e+03</td>\n",
       "      <td>2.464000e+03</td>\n",
       "      <td>2.971000e+03</td>\n",
       "    </tr>\n",
       "    <tr>\n",
       "      <th>PARENT_3000_AVG_MAP_DIST</th>\n",
       "      <td>321.0</td>\n",
       "      <td>1.835196e+03</td>\n",
       "      <td>4.115742e+02</td>\n",
       "      <td>838.000000</td>\n",
       "      <td>1.577000e+03</td>\n",
       "      <td>1.734000e+03</td>\n",
       "      <td>1.965000e+03</td>\n",
       "      <td>2.697000e+03</td>\n",
       "    </tr>\n",
       "    <tr>\n",
       "      <th>PARENT_3000_AVG_TVD_DIST</th>\n",
       "      <td>321.0</td>\n",
       "      <td>8.088910e+02</td>\n",
       "      <td>5.530527e+02</td>\n",
       "      <td>65.000000</td>\n",
       "      <td>3.760000e+02</td>\n",
       "      <td>6.600000e+02</td>\n",
       "      <td>1.355000e+03</td>\n",
       "      <td>1.936000e+03</td>\n",
       "    </tr>\n",
       "    <tr>\n",
       "      <th>PARENT_3000_AVG_WELL_AGE</th>\n",
       "      <td>321.0</td>\n",
       "      <td>2.393019e+03</td>\n",
       "      <td>1.323785e+03</td>\n",
       "      <td>258.000000</td>\n",
       "      <td>1.366000e+03</td>\n",
       "      <td>2.109000e+03</td>\n",
       "      <td>3.242000e+03</td>\n",
       "      <td>5.907000e+03</td>\n",
       "    </tr>\n",
       "    <tr>\n",
       "      <th>PARENT_3000_MEDIAN_WELL_AGE</th>\n",
       "      <td>321.0</td>\n",
       "      <td>2.347660e+03</td>\n",
       "      <td>1.454599e+03</td>\n",
       "      <td>140.000000</td>\n",
       "      <td>1.025000e+03</td>\n",
       "      <td>2.003500e+03</td>\n",
       "      <td>3.351000e+03</td>\n",
       "      <td>6.499000e+03</td>\n",
       "    </tr>\n",
       "    <tr>\n",
       "      <th>PARENT_3000_WELL_COUNT</th>\n",
       "      <td>348.0</td>\n",
       "      <td>1.384483e+01</td>\n",
       "      <td>1.014472e+01</td>\n",
       "      <td>0.000000</td>\n",
       "      <td>7.000000e+00</td>\n",
       "      <td>1.200000e+01</td>\n",
       "      <td>2.000000e+01</td>\n",
       "      <td>4.700000e+01</td>\n",
       "    </tr>\n",
       "    <tr>\n",
       "      <th>CODEV_IN_ZONE_MIN_HYPOT</th>\n",
       "      <td>313.0</td>\n",
       "      <td>9.284058e+02</td>\n",
       "      <td>3.863108e+02</td>\n",
       "      <td>283.000000</td>\n",
       "      <td>6.000000e+02</td>\n",
       "      <td>8.400000e+02</td>\n",
       "      <td>1.200000e+03</td>\n",
       "      <td>1.980000e+03</td>\n",
       "    </tr>\n",
       "    <tr>\n",
       "      <th>CODEV_OUT_ZONE_MIN_HYPOT</th>\n",
       "      <td>221.0</td>\n",
       "      <td>7.698371e+02</td>\n",
       "      <td>5.470295e+02</td>\n",
       "      <td>242.000000</td>\n",
       "      <td>4.240000e+02</td>\n",
       "      <td>6.090000e+02</td>\n",
       "      <td>8.520000e+02</td>\n",
       "      <td>3.549000e+03</td>\n",
       "    </tr>\n",
       "    <tr>\n",
       "      <th>CODEV_IN_ZONE_MIN_MAP_DIST</th>\n",
       "      <td>313.0</td>\n",
       "      <td>9.250831e+02</td>\n",
       "      <td>3.921710e+02</td>\n",
       "      <td>124.000000</td>\n",
       "      <td>6.000000e+02</td>\n",
       "      <td>8.400000e+02</td>\n",
       "      <td>1.200000e+03</td>\n",
       "      <td>1.980000e+03</td>\n",
       "    </tr>\n",
       "    <tr>\n",
       "      <th>CODEV_1050_WELL_COUNT</th>\n",
       "      <td>348.0</td>\n",
       "      <td>1.887931e+00</td>\n",
       "      <td>1.552751e+00</td>\n",
       "      <td>0.000000</td>\n",
       "      <td>1.000000e+00</td>\n",
       "      <td>2.000000e+00</td>\n",
       "      <td>3.000000e+00</td>\n",
       "      <td>7.000000e+00</td>\n",
       "    </tr>\n",
       "    <tr>\n",
       "      <th>CODEV_3000_AVG_HYPOT_DIST</th>\n",
       "      <td>348.0</td>\n",
       "      <td>1.301882e+03</td>\n",
       "      <td>4.066587e+02</td>\n",
       "      <td>417.000000</td>\n",
       "      <td>1.012250e+03</td>\n",
       "      <td>1.382000e+03</td>\n",
       "      <td>1.563250e+03</td>\n",
       "      <td>2.788000e+03</td>\n",
       "    </tr>\n",
       "    <tr>\n",
       "      <th>CODEV_3000_AVG_MAP_DIST</th>\n",
       "      <td>348.0</td>\n",
       "      <td>1.171138e+03</td>\n",
       "      <td>4.613299e+02</td>\n",
       "      <td>76.000000</td>\n",
       "      <td>8.085000e+02</td>\n",
       "      <td>1.200000e+03</td>\n",
       "      <td>1.556000e+03</td>\n",
       "      <td>2.468000e+03</td>\n",
       "    </tr>\n",
       "    <tr>\n",
       "      <th>CODEV_3000_AVG_TVD_DIST</th>\n",
       "      <td>348.0</td>\n",
       "      <td>2.679626e+02</td>\n",
       "      <td>3.120133e+02</td>\n",
       "      <td>0.000000</td>\n",
       "      <td>2.100000e+01</td>\n",
       "      <td>1.815000e+02</td>\n",
       "      <td>3.930000e+02</td>\n",
       "      <td>1.639000e+03</td>\n",
       "    </tr>\n",
       "    <tr>\n",
       "      <th>CODEV_3000_AVG_WELL_AGE</th>\n",
       "      <td>348.0</td>\n",
       "      <td>9.301724e-01</td>\n",
       "      <td>7.267537e+00</td>\n",
       "      <td>-34.000000</td>\n",
       "      <td>0.000000e+00</td>\n",
       "      <td>2.500000e-01</td>\n",
       "      <td>1.825000e+00</td>\n",
       "      <td>3.260000e+01</td>\n",
       "    </tr>\n",
       "    <tr>\n",
       "      <th>CODEV_3000_MEDIAN_WELL_AGE</th>\n",
       "      <td>348.0</td>\n",
       "      <td>1.676724e+00</td>\n",
       "      <td>1.017553e+01</td>\n",
       "      <td>-45.000000</td>\n",
       "      <td>0.000000e+00</td>\n",
       "      <td>5.000000e-01</td>\n",
       "      <td>1.500000e+00</td>\n",
       "      <td>5.300000e+01</td>\n",
       "    </tr>\n",
       "    <tr>\n",
       "      <th>CODEV_3000_WELL_COUNT</th>\n",
       "      <td>348.0</td>\n",
       "      <td>4.606322e+00</td>\n",
       "      <td>3.924748e+00</td>\n",
       "      <td>1.000000</td>\n",
       "      <td>2.000000e+00</td>\n",
       "      <td>4.000000e+00</td>\n",
       "      <td>6.000000e+00</td>\n",
       "      <td>2.400000e+01</td>\n",
       "    </tr>\n",
       "    <tr>\n",
       "      <th>Pressure Gradient (psi/ft) new</th>\n",
       "      <td>346.0</td>\n",
       "      <td>5.334490e-01</td>\n",
       "      <td>3.284839e-02</td>\n",
       "      <td>0.453435</td>\n",
       "      <td>5.058543e-01</td>\n",
       "      <td>5.311658e-01</td>\n",
       "      <td>5.575394e-01</td>\n",
       "      <td>6.381370e-01</td>\n",
       "    </tr>\n",
       "    <tr>\n",
       "      <th>Soak Time</th>\n",
       "      <td>348.0</td>\n",
       "      <td>1.745144e+02</td>\n",
       "      <td>1.456807e+02</td>\n",
       "      <td>15.000000</td>\n",
       "      <td>5.550000e+01</td>\n",
       "      <td>1.295000e+02</td>\n",
       "      <td>2.390000e+02</td>\n",
       "      <td>9.880000e+02</td>\n",
       "    </tr>\n",
       "    <tr>\n",
       "      <th>Avg Open Pressure</th>\n",
       "      <td>340.0</td>\n",
       "      <td>2.824373e+03</td>\n",
       "      <td>3.622775e+02</td>\n",
       "      <td>1824.858692</td>\n",
       "      <td>2.582144e+03</td>\n",
       "      <td>2.798177e+03</td>\n",
       "      <td>3.091271e+03</td>\n",
       "      <td>3.579913e+03</td>\n",
       "    </tr>\n",
       "    <tr>\n",
       "      <th>SD Open Pressure</th>\n",
       "      <td>340.0</td>\n",
       "      <td>2.429441e+02</td>\n",
       "      <td>1.763794e+02</td>\n",
       "      <td>105.000000</td>\n",
       "      <td>1.643750e+02</td>\n",
       "      <td>2.039000e+02</td>\n",
       "      <td>2.568000e+02</td>\n",
       "      <td>2.145800e+03</td>\n",
       "    </tr>\n",
       "    <tr>\n",
       "      <th>Avg Close Pressure</th>\n",
       "      <td>347.0</td>\n",
       "      <td>2.267652e+03</td>\n",
       "      <td>5.314464e+02</td>\n",
       "      <td>695.837930</td>\n",
       "      <td>1.940306e+03</td>\n",
       "      <td>2.324338e+03</td>\n",
       "      <td>2.650873e+03</td>\n",
       "      <td>3.228587e+03</td>\n",
       "    </tr>\n",
       "    <tr>\n",
       "      <th>SD Close Pressure</th>\n",
       "      <td>347.0</td>\n",
       "      <td>5.688308e+02</td>\n",
       "      <td>1.995150e+02</td>\n",
       "      <td>177.600000</td>\n",
       "      <td>4.236500e+02</td>\n",
       "      <td>5.593000e+02</td>\n",
       "      <td>6.860500e+02</td>\n",
       "      <td>1.330400e+03</td>\n",
       "    </tr>\n",
       "  </tbody>\n",
       "</table>\n",
       "</div>"
      ],
      "text/plain": [
       "                                count          mean           std  \\\n",
       "Well ID                         348.0  1.800345e+02  1.031601e+02   \n",
       "Avg Pump Difference             333.0  2.246405e+01  2.432724e+01   \n",
       "Lateral Length                  348.0  1.111523e+04  2.408755e+03   \n",
       "TVD                             344.0  9.082369e+03  8.542595e+02   \n",
       "DELAYED                         348.0  7.183908e-01  4.504314e-01   \n",
       "BOUND_CODE                      348.0  9.893037e+06  2.814065e+06   \n",
       "PARENT_CODEV_1050_WELL_COUNT    348.0  3.218391e+00  2.062009e+00   \n",
       "PARENT_IN_ZONE_MIN_HYPOT        259.0  1.495463e+03  7.885431e+02   \n",
       "PARENT_OUT_ZONE_MIN_HYPOT       318.0  1.299242e+03  7.400094e+02   \n",
       "PARENT_IN_ZONE_MIN_MAP_DIST     259.0  1.473718e+03  7.966494e+02   \n",
       "PARENT_OUT_ZONE_MIN_MAP_DIST    318.0  7.945126e+02  9.930239e+02   \n",
       "PARENT_1050_AVG_WELL_AGE        199.0  2.690191e+03  1.593382e+03   \n",
       "PARENT_1050_MEDIAN_WELL_AGE     199.0  2.678774e+03  1.632096e+03   \n",
       "PARENT_1050_WELL_COUNT          348.0  1.330460e+00  1.620294e+00   \n",
       "PARENT_3000_AVG_HYPOT_DIST      321.0  2.175642e+03  3.326649e+02   \n",
       "PARENT_3000_AVG_MAP_DIST        321.0  1.835196e+03  4.115742e+02   \n",
       "PARENT_3000_AVG_TVD_DIST        321.0  8.088910e+02  5.530527e+02   \n",
       "PARENT_3000_AVG_WELL_AGE        321.0  2.393019e+03  1.323785e+03   \n",
       "PARENT_3000_MEDIAN_WELL_AGE     321.0  2.347660e+03  1.454599e+03   \n",
       "PARENT_3000_WELL_COUNT          348.0  1.384483e+01  1.014472e+01   \n",
       "CODEV_IN_ZONE_MIN_HYPOT         313.0  9.284058e+02  3.863108e+02   \n",
       "CODEV_OUT_ZONE_MIN_HYPOT        221.0  7.698371e+02  5.470295e+02   \n",
       "CODEV_IN_ZONE_MIN_MAP_DIST      313.0  9.250831e+02  3.921710e+02   \n",
       "CODEV_1050_WELL_COUNT           348.0  1.887931e+00  1.552751e+00   \n",
       "CODEV_3000_AVG_HYPOT_DIST       348.0  1.301882e+03  4.066587e+02   \n",
       "CODEV_3000_AVG_MAP_DIST         348.0  1.171138e+03  4.613299e+02   \n",
       "CODEV_3000_AVG_TVD_DIST         348.0  2.679626e+02  3.120133e+02   \n",
       "CODEV_3000_AVG_WELL_AGE         348.0  9.301724e-01  7.267537e+00   \n",
       "CODEV_3000_MEDIAN_WELL_AGE      348.0  1.676724e+00  1.017553e+01   \n",
       "CODEV_3000_WELL_COUNT           348.0  4.606322e+00  3.924748e+00   \n",
       "Pressure Gradient (psi/ft) new  346.0  5.334490e-01  3.284839e-02   \n",
       "Soak Time                       348.0  1.745144e+02  1.456807e+02   \n",
       "Avg Open Pressure               340.0  2.824373e+03  3.622775e+02   \n",
       "SD Open Pressure                340.0  2.429441e+02  1.763794e+02   \n",
       "Avg Close Pressure              347.0  2.267652e+03  5.314464e+02   \n",
       "SD Close Pressure               347.0  5.688308e+02  1.995150e+02   \n",
       "\n",
       "                                        min           25%           50%  \\\n",
       "Well ID                            1.000000  9.150000e+01  1.805000e+02   \n",
       "Avg Pump Difference              -12.690000  3.860000e+00  1.737000e+01   \n",
       "Lateral Length                  2300.000000  1.000000e+04  1.030000e+04   \n",
       "TVD                             7345.000000  8.340000e+03  8.912500e+03   \n",
       "DELAYED                            0.000000  0.000000e+00  1.000000e+00   \n",
       "BOUND_CODE                      1110.000000  1.000100e+07  1.101100e+07   \n",
       "PARENT_CODEV_1050_WELL_COUNT       0.000000  2.000000e+00  3.000000e+00   \n",
       "PARENT_IN_ZONE_MIN_HYPOT         237.000000  7.680000e+02  1.225000e+03   \n",
       "PARENT_OUT_ZONE_MIN_HYPOT        151.000000  7.745000e+02  1.096000e+03   \n",
       "PARENT_IN_ZONE_MIN_MAP_DIST       35.000000  7.650000e+02  1.217000e+03   \n",
       "PARENT_OUT_ZONE_MIN_MAP_DIST       0.000000  4.425000e+01  2.140000e+02   \n",
       "PARENT_1050_AVG_WELL_AGE         126.000000  1.169000e+03  2.496000e+03   \n",
       "PARENT_1050_MEDIAN_WELL_AGE      125.500000  1.036750e+03  2.495500e+03   \n",
       "PARENT_1050_WELL_COUNT             0.000000  0.000000e+00  1.000000e+00   \n",
       "PARENT_3000_AVG_HYPOT_DIST      1482.000000  1.910000e+03  2.141000e+03   \n",
       "PARENT_3000_AVG_MAP_DIST         838.000000  1.577000e+03  1.734000e+03   \n",
       "PARENT_3000_AVG_TVD_DIST          65.000000  3.760000e+02  6.600000e+02   \n",
       "PARENT_3000_AVG_WELL_AGE         258.000000  1.366000e+03  2.109000e+03   \n",
       "PARENT_3000_MEDIAN_WELL_AGE      140.000000  1.025000e+03  2.003500e+03   \n",
       "PARENT_3000_WELL_COUNT             0.000000  7.000000e+00  1.200000e+01   \n",
       "CODEV_IN_ZONE_MIN_HYPOT          283.000000  6.000000e+02  8.400000e+02   \n",
       "CODEV_OUT_ZONE_MIN_HYPOT         242.000000  4.240000e+02  6.090000e+02   \n",
       "CODEV_IN_ZONE_MIN_MAP_DIST       124.000000  6.000000e+02  8.400000e+02   \n",
       "CODEV_1050_WELL_COUNT              0.000000  1.000000e+00  2.000000e+00   \n",
       "CODEV_3000_AVG_HYPOT_DIST        417.000000  1.012250e+03  1.382000e+03   \n",
       "CODEV_3000_AVG_MAP_DIST           76.000000  8.085000e+02  1.200000e+03   \n",
       "CODEV_3000_AVG_TVD_DIST            0.000000  2.100000e+01  1.815000e+02   \n",
       "CODEV_3000_AVG_WELL_AGE          -34.000000  0.000000e+00  2.500000e-01   \n",
       "CODEV_3000_MEDIAN_WELL_AGE       -45.000000  0.000000e+00  5.000000e-01   \n",
       "CODEV_3000_WELL_COUNT              1.000000  2.000000e+00  4.000000e+00   \n",
       "Pressure Gradient (psi/ft) new     0.453435  5.058543e-01  5.311658e-01   \n",
       "Soak Time                         15.000000  5.550000e+01  1.295000e+02   \n",
       "Avg Open Pressure               1824.858692  2.582144e+03  2.798177e+03   \n",
       "SD Open Pressure                 105.000000  1.643750e+02  2.039000e+02   \n",
       "Avg Close Pressure               695.837930  1.940306e+03  2.324338e+03   \n",
       "SD Close Pressure                177.600000  4.236500e+02  5.593000e+02   \n",
       "\n",
       "                                         75%           max  \n",
       "Well ID                         2.692500e+02  3.560000e+02  \n",
       "Avg Pump Difference             3.433000e+01  1.172600e+02  \n",
       "Lateral Length                  1.270000e+04  1.820000e+04  \n",
       "TVD                             9.968750e+03  1.067500e+04  \n",
       "DELAYED                         1.000000e+00  1.000000e+00  \n",
       "BOUND_CODE                      1.111100e+07  1.111111e+07  \n",
       "PARENT_CODEV_1050_WELL_COUNT    4.000000e+00  1.100000e+01  \n",
       "PARENT_IN_ZONE_MIN_HYPOT        2.300000e+03  2.854000e+03  \n",
       "PARENT_OUT_ZONE_MIN_HYPOT       1.832750e+03  2.925000e+03  \n",
       "PARENT_IN_ZONE_MIN_MAP_DIST     2.292000e+03  2.820000e+03  \n",
       "PARENT_OUT_ZONE_MIN_MAP_DIST    1.684000e+03  2.657000e+03  \n",
       "PARENT_1050_AVG_WELL_AGE        4.029500e+03  6.575000e+03  \n",
       "PARENT_1050_MEDIAN_WELL_AGE     3.984750e+03  6.572000e+03  \n",
       "PARENT_1050_WELL_COUNT          2.000000e+00  9.000000e+00  \n",
       "PARENT_3000_AVG_HYPOT_DIST      2.464000e+03  2.971000e+03  \n",
       "PARENT_3000_AVG_MAP_DIST        1.965000e+03  2.697000e+03  \n",
       "PARENT_3000_AVG_TVD_DIST        1.355000e+03  1.936000e+03  \n",
       "PARENT_3000_AVG_WELL_AGE        3.242000e+03  5.907000e+03  \n",
       "PARENT_3000_MEDIAN_WELL_AGE     3.351000e+03  6.499000e+03  \n",
       "PARENT_3000_WELL_COUNT          2.000000e+01  4.700000e+01  \n",
       "CODEV_IN_ZONE_MIN_HYPOT         1.200000e+03  1.980000e+03  \n",
       "CODEV_OUT_ZONE_MIN_HYPOT        8.520000e+02  3.549000e+03  \n",
       "CODEV_IN_ZONE_MIN_MAP_DIST      1.200000e+03  1.980000e+03  \n",
       "CODEV_1050_WELL_COUNT           3.000000e+00  7.000000e+00  \n",
       "CODEV_3000_AVG_HYPOT_DIST       1.563250e+03  2.788000e+03  \n",
       "CODEV_3000_AVG_MAP_DIST         1.556000e+03  2.468000e+03  \n",
       "CODEV_3000_AVG_TVD_DIST         3.930000e+02  1.639000e+03  \n",
       "CODEV_3000_AVG_WELL_AGE         1.825000e+00  3.260000e+01  \n",
       "CODEV_3000_MEDIAN_WELL_AGE      1.500000e+00  5.300000e+01  \n",
       "CODEV_3000_WELL_COUNT           6.000000e+00  2.400000e+01  \n",
       "Pressure Gradient (psi/ft) new  5.575394e-01  6.381370e-01  \n",
       "Soak Time                       2.390000e+02  9.880000e+02  \n",
       "Avg Open Pressure               3.091271e+03  3.579913e+03  \n",
       "SD Open Pressure                2.568000e+02  2.145800e+03  \n",
       "Avg Close Pressure              2.650873e+03  3.228587e+03  \n",
       "SD Close Pressure               6.860500e+02  1.330400e+03  "
      ]
     },
     "execution_count": 6,
     "metadata": {},
     "output_type": "execute_result"
    }
   ],
   "source": [
    "df.describe().transpose()"
   ]
  },
  {
   "cell_type": "code",
   "execution_count": 7,
   "metadata": {
    "ExecuteTime": {
     "end_time": "2024-01-21T02:23:00.600895Z",
     "start_time": "2024-01-21T02:23:00.472806Z"
    }
   },
   "outputs": [
    {
     "name": "stdout",
     "output_type": "stream",
     "text": [
      "count    333.000000\n",
      "mean      22.464054\n",
      "std       24.327237\n",
      "min      -12.690000\n",
      "25%        3.860000\n",
      "50%       17.370000\n",
      "75%       34.330000\n",
      "max      117.260000\n",
      "Name: Avg Pump Difference, dtype: float64\n"
     ]
    },
    {
     "data": {
      "image/png": "[encoded data removed]",
      "text/plain": [
       "<Figure size 640x480 with 1 Axes>"
      ]
     },
     "metadata": {},
     "output_type": "display_data"
    }
   ],
   "source": [
    "summary_stats = df['Avg Pump Difference'].describe()\n",
    "print(summary_stats)\n",
    "sns.histplot(df['Avg Pump Difference'], kde=True, color='skyblue')\n",
    "plt.title('Distribution of Average Pump Difference')\n",
    "plt.xlabel('Well ID')\n",
    "plt.ylabel('Pump Difference')\n",
    "plt.show()"
   ]
  },
  {
   "cell_type": "code",
   "execution_count": 9,
   "metadata": {
    "ExecuteTime": {
     "end_time": "2024-01-21T02:23:00.915214Z",
     "start_time": "2024-01-21T02:23:00.602705Z"
    }
   },
   "outputs": [
    {
     "data": {
      "image/png": "[encoded data removed]",
      "text/plain": [
       "<Figure size 1200x1000 with 2 Axes>"
      ]
     },
     "metadata": {},
     "output_type": "display_data"
    }
   ],
   "source": [
    "# Select only the categorical columns\n",
    "categorical_columns = df.select_dtypes(include=['object', 'category'])\n",
    "\n",
    "# Create a matrix of correlation values\n",
    "correlation_matrix = pd.DataFrame(index=categorical_columns.columns, columns=categorical_columns.columns)\n",
    "\n",
    "for col1 in categorical_columns.columns:\n",
    "    for col2 in categorical_columns.columns:\n",
    "        cross_tab = pd.crosstab(categorical_columns[col1], categorical_columns[col2])\n",
    "        chi2, _, _, _ = stats.chi2_contingency(cross_tab)\n",
    "        correlation_matrix.loc[col1, col2] = np.sqrt(chi2 / (cross_tab.sum().sum() * (min(cross_tab.shape) - 1)))\n",
    "\n",
    "# Convert to numeric format\n",
    "correlation_matrix = correlation_matrix.apply(pd.to_numeric)\n",
    "\n",
    "# Create a heatmap\n",
    "plt.figure(figsize=(12, 10))\n",
    "sns.heatmap(correlation_matrix, annot=True, cmap='viridis', fmt=\".2f\", linewidths=.5)\n",
    "\n",
    "# Add labels and title\n",
    "plt.title('Categorical Variable Association Heatmap')\n",
    "\n",
    "# Show the plot\n",
    "plt.show()"
   ]
  },
  {
   "cell_type": "code",
   "execution_count": 11,
   "metadata": {
    "ExecuteTime": {
     "end_time": "2024-01-21T02:23:00.921652Z",
     "start_time": "2024-01-21T02:23:00.916538Z"
    }
   },
   "outputs": [
    {
     "name": "stdout",
     "output_type": "stream",
     "text": [
      "AREA UNIQUE ['Acadia' 'Arches' 'Badlands' 'Big Bend' 'Canyonlands' 'Carlsbad Caverns'\n",
      " 'Crater Lake' 'Denali' 'Dry Tortugas' 'Everglades' 'Glacier'\n",
      " 'Grand Canyon' 'Grand Teton' 'Great Basin' 'Great Sand Dunes'\n",
      " 'Great Smoky Mountains' 'Guadalupe Mountains' 'Hot Springs' 'Joshua Tree'\n",
      " 'Kings Canyon' 'Mammoth Cave' 'Lake Clark' 'Mount Rainier'\n",
      " 'North Cascades' 'Olympic' 'Petrified Forest' 'Redwood' 'Rocky Mountain'\n",
      " 'Sequoia' 'Yellowstone' 'Yosemite']\n",
      "FLUID SYS UQ ['Campbell' 'Young' 'Williams' nan]\n",
      "CODEV POS UQ ['Edge' 'Middle']\n",
      "CODEV_FORM_UQ ['Edge' 'Middle']\n",
      "DEV STRAT UQ ['Coke' 'Orange Crush' 'Mountain Dew' 'Sprite' 'Dr Pepper' 'Pepsi'\n",
      " 'Pibb Extra']\n"
     ]
    }
   ],
   "source": [
    "# find the unique values of all object string columns 5\n",
    "area_uq = df['Area'].unique()\n",
    "fluid_uq = df['Fluid System'].unique()\n",
    "CODEV_uq = df['CODEV_POSITION'].unique()\n",
    "CODEV_FORMATION_uq = df['CODEV_FORMATION_POSITION'].unique()\n",
    "dev_strat_uq = df['Development Strategy'].unique()\n",
    "print('AREA UNIQUE', area_uq)\n",
    "print('FLUID SYS UQ', fluid_uq)\n",
    "print('CODEV POS UQ', CODEV_uq)\n",
    "print('CODEV_FORM_UQ', CODEV_FORMATION_uq)\n",
    "print('DEV STRAT UQ', dev_strat_uq)"
   ]
  },
  {
   "cell_type": "markdown",
   "metadata": {},
   "source": [
    "# Feature Engineering"
   ]
  },
  {
   "cell_type": "markdown",
   "metadata": {
    "ExecuteTime": {
     "end_time": "2024-01-20T21:05:59.973498Z",
     "start_time": "2024-01-20T21:05:59.968989Z"
    }
   },
   "source": [
    "### Feature Imputation"
   ]
  },
  {
   "cell_type": "markdown",
   "metadata": {},
   "source": [
    "Looking for how many features are missing values, and what percent and count of these values are missing"
   ]
  },
  {
   "cell_type": "code",
   "execution_count": 12,
   "metadata": {
    "ExecuteTime": {
     "end_time": "2024-01-21T02:23:02.429125Z",
     "start_time": "2024-01-21T02:23:02.406686Z"
    }
   },
   "outputs": [
    {
     "data": {
      "text/html": [
       "<div>\n",
       "<style scoped>\n",
       "    .dataframe tbody tr th:only-of-type {\n",
       "        vertical-align: middle;\n",
       "    }\n",
       "\n",
       "    .dataframe tbody tr th {\n",
       "        vertical-align: top;\n",
       "    }\n",
       "\n",
       "    .dataframe thead th {\n",
       "        text-align: right;\n",
       "    }\n",
       "</style>\n",
       "<table border=\"1\" class=\"dataframe\">\n",
       "  <thead>\n",
       "    <tr style=\"text-align: right;\">\n",
       "      <th></th>\n",
       "      <th>Feature</th>\n",
       "      <th>% Complete</th>\n",
       "      <th>Missing Count</th>\n",
       "    </tr>\n",
       "  </thead>\n",
       "  <tbody>\n",
       "    <tr>\n",
       "      <th>0</th>\n",
       "      <td>Well ID</td>\n",
       "      <td>100.0</td>\n",
       "      <td>0</td>\n",
       "    </tr>\n",
       "    <tr>\n",
       "      <th>1</th>\n",
       "      <td>Avg Pump Difference</td>\n",
       "      <td>95.689655</td>\n",
       "      <td>15</td>\n",
       "    </tr>\n",
       "    <tr>\n",
       "      <th>2</th>\n",
       "      <td>Area</td>\n",
       "      <td>100.0</td>\n",
       "      <td>0</td>\n",
       "    </tr>\n",
       "    <tr>\n",
       "      <th>3</th>\n",
       "      <td>Lateral Length</td>\n",
       "      <td>100.0</td>\n",
       "      <td>0</td>\n",
       "    </tr>\n",
       "    <tr>\n",
       "      <th>4</th>\n",
       "      <td>Fluid System</td>\n",
       "      <td>96.83908</td>\n",
       "      <td>11</td>\n",
       "    </tr>\n",
       "    <tr>\n",
       "      <th>5</th>\n",
       "      <td>TVD</td>\n",
       "      <td>98.850575</td>\n",
       "      <td>4</td>\n",
       "    </tr>\n",
       "    <tr>\n",
       "      <th>6</th>\n",
       "      <td>Development Strategy</td>\n",
       "      <td>100.0</td>\n",
       "      <td>0</td>\n",
       "    </tr>\n",
       "    <tr>\n",
       "      <th>7</th>\n",
       "      <td>DELAYED</td>\n",
       "      <td>100.0</td>\n",
       "      <td>0</td>\n",
       "    </tr>\n",
       "    <tr>\n",
       "      <th>8</th>\n",
       "      <td>BOUND_CODE</td>\n",
       "      <td>100.0</td>\n",
       "      <td>0</td>\n",
       "    </tr>\n",
       "    <tr>\n",
       "      <th>9</th>\n",
       "      <td>CODEV_POSITION</td>\n",
       "      <td>100.0</td>\n",
       "      <td>0</td>\n",
       "    </tr>\n",
       "    <tr>\n",
       "      <th>10</th>\n",
       "      <td>CODEV_FORMATION_POSITION</td>\n",
       "      <td>100.0</td>\n",
       "      <td>0</td>\n",
       "    </tr>\n",
       "    <tr>\n",
       "      <th>11</th>\n",
       "      <td>PARENT_CODEV_1050_WELL_COUNT</td>\n",
       "      <td>100.0</td>\n",
       "      <td>0</td>\n",
       "    </tr>\n",
       "    <tr>\n",
       "      <th>12</th>\n",
       "      <td>PARENT_IN_ZONE_MIN_HYPOT</td>\n",
       "      <td>74.425287</td>\n",
       "      <td>89</td>\n",
       "    </tr>\n",
       "    <tr>\n",
       "      <th>13</th>\n",
       "      <td>PARENT_OUT_ZONE_MIN_HYPOT</td>\n",
       "      <td>91.37931</td>\n",
       "      <td>30</td>\n",
       "    </tr>\n",
       "    <tr>\n",
       "      <th>14</th>\n",
       "      <td>PARENT_IN_ZONE_MIN_MAP_DIST</td>\n",
       "      <td>74.425287</td>\n",
       "      <td>89</td>\n",
       "    </tr>\n",
       "    <tr>\n",
       "      <th>15</th>\n",
       "      <td>PARENT_OUT_ZONE_MIN_MAP_DIST</td>\n",
       "      <td>91.37931</td>\n",
       "      <td>30</td>\n",
       "    </tr>\n",
       "    <tr>\n",
       "      <th>16</th>\n",
       "      <td>PARENT_1050_AVG_WELL_AGE</td>\n",
       "      <td>57.183908</td>\n",
       "      <td>149</td>\n",
       "    </tr>\n",
       "    <tr>\n",
       "      <th>17</th>\n",
       "      <td>PARENT_1050_MEDIAN_WELL_AGE</td>\n",
       "      <td>57.183908</td>\n",
       "      <td>149</td>\n",
       "    </tr>\n",
       "    <tr>\n",
       "      <th>18</th>\n",
       "      <td>PARENT_1050_WELL_COUNT</td>\n",
       "      <td>100.0</td>\n",
       "      <td>0</td>\n",
       "    </tr>\n",
       "    <tr>\n",
       "      <th>19</th>\n",
       "      <td>PARENT_3000_AVG_HYPOT_DIST</td>\n",
       "      <td>92.241379</td>\n",
       "      <td>27</td>\n",
       "    </tr>\n",
       "    <tr>\n",
       "      <th>20</th>\n",
       "      <td>PARENT_3000_AVG_MAP_DIST</td>\n",
       "      <td>92.241379</td>\n",
       "      <td>27</td>\n",
       "    </tr>\n",
       "    <tr>\n",
       "      <th>21</th>\n",
       "      <td>PARENT_3000_AVG_TVD_DIST</td>\n",
       "      <td>92.241379</td>\n",
       "      <td>27</td>\n",
       "    </tr>\n",
       "    <tr>\n",
       "      <th>22</th>\n",
       "      <td>PARENT_3000_AVG_WELL_AGE</td>\n",
       "      <td>92.241379</td>\n",
       "      <td>27</td>\n",
       "    </tr>\n",
       "    <tr>\n",
       "      <th>23</th>\n",
       "      <td>PARENT_3000_MEDIAN_WELL_AGE</td>\n",
       "      <td>92.241379</td>\n",
       "      <td>27</td>\n",
       "    </tr>\n",
       "    <tr>\n",
       "      <th>24</th>\n",
       "      <td>PARENT_3000_WELL_COUNT</td>\n",
       "      <td>100.0</td>\n",
       "      <td>0</td>\n",
       "    </tr>\n",
       "    <tr>\n",
       "      <th>25</th>\n",
       "      <td>CODEV_IN_ZONE_MIN_HYPOT</td>\n",
       "      <td>89.942529</td>\n",
       "      <td>35</td>\n",
       "    </tr>\n",
       "    <tr>\n",
       "      <th>26</th>\n",
       "      <td>CODEV_OUT_ZONE_MIN_HYPOT</td>\n",
       "      <td>63.505747</td>\n",
       "      <td>127</td>\n",
       "    </tr>\n",
       "    <tr>\n",
       "      <th>27</th>\n",
       "      <td>CODEV_IN_ZONE_MIN_MAP_DIST</td>\n",
       "      <td>89.942529</td>\n",
       "      <td>35</td>\n",
       "    </tr>\n",
       "    <tr>\n",
       "      <th>28</th>\n",
       "      <td>CODEV_1050_WELL_COUNT</td>\n",
       "      <td>100.0</td>\n",
       "      <td>0</td>\n",
       "    </tr>\n",
       "    <tr>\n",
       "      <th>29</th>\n",
       "      <td>CODEV_3000_AVG_HYPOT_DIST</td>\n",
       "      <td>100.0</td>\n",
       "      <td>0</td>\n",
       "    </tr>\n",
       "    <tr>\n",
       "      <th>30</th>\n",
       "      <td>CODEV_3000_AVG_MAP_DIST</td>\n",
       "      <td>100.0</td>\n",
       "      <td>0</td>\n",
       "    </tr>\n",
       "    <tr>\n",
       "      <th>31</th>\n",
       "      <td>CODEV_3000_AVG_TVD_DIST</td>\n",
       "      <td>100.0</td>\n",
       "      <td>0</td>\n",
       "    </tr>\n",
       "    <tr>\n",
       "      <th>32</th>\n",
       "      <td>CODEV_3000_AVG_WELL_AGE</td>\n",
       "      <td>100.0</td>\n",
       "      <td>0</td>\n",
       "    </tr>\n",
       "    <tr>\n",
       "      <th>33</th>\n",
       "      <td>CODEV_3000_MEDIAN_WELL_AGE</td>\n",
       "      <td>100.0</td>\n",
       "      <td>0</td>\n",
       "    </tr>\n",
       "    <tr>\n",
       "      <th>34</th>\n",
       "      <td>CODEV_3000_WELL_COUNT</td>\n",
       "      <td>100.0</td>\n",
       "      <td>0</td>\n",
       "    </tr>\n",
       "    <tr>\n",
       "      <th>35</th>\n",
       "      <td>Pressure Gradient (psi/ft) new</td>\n",
       "      <td>99.425287</td>\n",
       "      <td>2</td>\n",
       "    </tr>\n",
       "    <tr>\n",
       "      <th>36</th>\n",
       "      <td>Soak Time</td>\n",
       "      <td>100.0</td>\n",
       "      <td>0</td>\n",
       "    </tr>\n",
       "    <tr>\n",
       "      <th>37</th>\n",
       "      <td>Avg Open Pressure</td>\n",
       "      <td>97.701149</td>\n",
       "      <td>8</td>\n",
       "    </tr>\n",
       "    <tr>\n",
       "      <th>38</th>\n",
       "      <td>SD Open Pressure</td>\n",
       "      <td>97.701149</td>\n",
       "      <td>8</td>\n",
       "    </tr>\n",
       "    <tr>\n",
       "      <th>39</th>\n",
       "      <td>Avg Close Pressure</td>\n",
       "      <td>99.712644</td>\n",
       "      <td>1</td>\n",
       "    </tr>\n",
       "    <tr>\n",
       "      <th>40</th>\n",
       "      <td>SD Close Pressure</td>\n",
       "      <td>99.712644</td>\n",
       "      <td>1</td>\n",
       "    </tr>\n",
       "  </tbody>\n",
       "</table>\n",
       "</div>"
      ],
      "text/plain": [
       "                           Feature % Complete Missing Count\n",
       "0                          Well ID      100.0             0\n",
       "1              Avg Pump Difference  95.689655            15\n",
       "2                             Area      100.0             0\n",
       "3                   Lateral Length      100.0             0\n",
       "4                     Fluid System   96.83908            11\n",
       "5                              TVD  98.850575             4\n",
       "6             Development Strategy      100.0             0\n",
       "7                          DELAYED      100.0             0\n",
       "8                       BOUND_CODE      100.0             0\n",
       "9                   CODEV_POSITION      100.0             0\n",
       "10        CODEV_FORMATION_POSITION      100.0             0\n",
       "11    PARENT_CODEV_1050_WELL_COUNT      100.0             0\n",
       "12        PARENT_IN_ZONE_MIN_HYPOT  74.425287            89\n",
       "13       PARENT_OUT_ZONE_MIN_HYPOT   91.37931            30\n",
       "14     PARENT_IN_ZONE_MIN_MAP_DIST  74.425287            89\n",
       "15    PARENT_OUT_ZONE_MIN_MAP_DIST   91.37931            30\n",
       "16        PARENT_1050_AVG_WELL_AGE  57.183908           149\n",
       "17     PARENT_1050_MEDIAN_WELL_AGE  57.183908           149\n",
       "18          PARENT_1050_WELL_COUNT      100.0             0\n",
       "19      PARENT_3000_AVG_HYPOT_DIST  92.241379            27\n",
       "20        PARENT_3000_AVG_MAP_DIST  92.241379            27\n",
       "21        PARENT_3000_AVG_TVD_DIST  92.241379            27\n",
       "22        PARENT_3000_AVG_WELL_AGE  92.241379            27\n",
       "23     PARENT_3000_MEDIAN_WELL_AGE  92.241379            27\n",
       "24          PARENT_3000_WELL_COUNT      100.0             0\n",
       "25         CODEV_IN_ZONE_MIN_HYPOT  89.942529            35\n",
       "26        CODEV_OUT_ZONE_MIN_HYPOT  63.505747           127\n",
       "27      CODEV_IN_ZONE_MIN_MAP_DIST  89.942529            35\n",
       "28           CODEV_1050_WELL_COUNT      100.0             0\n",
       "29       CODEV_3000_AVG_HYPOT_DIST      100.0             0\n",
       "30         CODEV_3000_AVG_MAP_DIST      100.0             0\n",
       "31         CODEV_3000_AVG_TVD_DIST      100.0             0\n",
       "32         CODEV_3000_AVG_WELL_AGE      100.0             0\n",
       "33      CODEV_3000_MEDIAN_WELL_AGE      100.0             0\n",
       "34           CODEV_3000_WELL_COUNT      100.0             0\n",
       "35  Pressure Gradient (psi/ft) new  99.425287             2\n",
       "36                       Soak Time      100.0             0\n",
       "37               Avg Open Pressure  97.701149             8\n",
       "38                SD Open Pressure  97.701149             8\n",
       "39              Avg Close Pressure  99.712644             1\n",
       "40               SD Close Pressure  99.712644             1"
      ]
     },
     "execution_count": 12,
     "metadata": {},
     "output_type": "execute_result"
    }
   ],
   "source": [
    "empty = pd.DataFrame(columns=[\"Feature\", \"% Complete\", \"Missing Count\"])\n",
    "nans_1 = df.isnull().sum(axis=0).tolist()\n",
    "for feature in range(0, len(df.columns)):\n",
    "    empty.loc[feature, \"Feature\"] = df.columns[feature]\n",
    "    empty.loc[feature, \"% Complete\"] = (1 - nans_1[feature] / len(df.index)) * 100\n",
    "    empty.loc[feature, \"Missing Count\"] = nans_1[feature]\n",
    "empty"
   ]
  },
  {
   "cell_type": "markdown",
   "metadata": {},
   "source": [
    "### Impute values"
   ]
  },
  {
   "cell_type": "markdown",
   "metadata": {},
   "source": [
    "The only categorical value of the 5 that we are missing is fluid system, and we can see above that we are only missing 11 values, which we felt was too small to run a machine learning model to determine, so instead we manually inferred these values:"
   ]
  },
  {
   "cell_type": "code",
   "execution_count": 13,
   "metadata": {
    "ExecuteTime": {
     "end_time": "2024-01-21T02:23:05.563584Z",
     "start_time": "2024-01-21T02:23:05.559592Z"
    }
   },
   "outputs": [],
   "source": [
    "missing_row_indices = [316, 335, 337, 340, 342, 343, 344, 345, 347, 348, 349]\n",
    "missing_row_indices = [i-2 for i in missing_row_indices]\n",
    "inferred_vals = ['William','Young', 'Young',\n",
    "                    'Campbell', 'William', 'William', 'Campbell', \n",
    "                    'Campbell', 'William', 'Campbell', 'William']\n",
    "df.loc[missing_row_indices, 'Fluid System'] = inferred_vals"
   ]
  },
  {
   "cell_type": "markdown",
   "metadata": {},
   "source": [
    "#### Impute Parent values missing with 9999 or 0 respectively because they are nonexistent parent wells"
   ]
  },
  {
   "cell_type": "code",
   "execution_count": 14,
   "metadata": {
    "ExecuteTime": {
     "end_time": "2024-01-21T02:23:06.757533Z",
     "start_time": "2024-01-21T02:23:06.746089Z"
    }
   },
   "outputs": [],
   "source": [
    "df['PARENT_CODEV_1050_WELL_COUNT'] = df['PARENT_CODEV_1050_WELL_COUNT'].fillna(0)\n",
    "df['PARENT_IN_ZONE_MIN_HYPOT'] = df['PARENT_IN_ZONE_MIN_HYPOT'].fillna(9999)\n",
    "df['PARENT_OUT_ZONE_MIN_HYPOT'] = df['PARENT_OUT_ZONE_MIN_HYPOT'].fillna(9999)\n",
    "df['PARENT_IN_ZONE_MIN_MAP_DIST'] = df['PARENT_IN_ZONE_MIN_MAP_DIST'].fillna(9999)\n",
    "df['PARENT_OUT_ZONE_MIN_MAP_DIST'] = df['PARENT_OUT_ZONE_MIN_MAP_DIST'].fillna(9999)\n",
    "df['PARENT_1050_AVG_WELL_AGE'] = df['PARENT_1050_AVG_WELL_AGE'].fillna(0)\n",
    "df['PARENT_1050_MEDIAN_WELL_AGE'] = df['PARENT_1050_MEDIAN_WELL_AGE'].fillna(0)\n",
    "df['PARENT_1050_WELL_COUNT'] = df['PARENT_1050_WELL_COUNT'].fillna(0)\n",
    "df['PARENT_3000_AVG_HYPOT_DIST'] = df['PARENT_3000_AVG_HYPOT_DIST'].fillna(9999)\n",
    "df['PARENT_3000_AVG_MAP_DIST'] = df['PARENT_3000_AVG_MAP_DIST'].fillna(9999)\n",
    "df['PARENT_3000_AVG_TVD_DIST'] = df['PARENT_3000_AVG_TVD_DIST'].fillna(9999)\n",
    "df['PARENT_3000_AVG_WELL_AGE'] = df['PARENT_3000_AVG_WELL_AGE'].fillna(0)\n",
    "df['PARENT_3000_MEDIAN_WELL_AGE'] = df['PARENT_3000_MEDIAN_WELL_AGE'].fillna(0)\n",
    "df['PARENT_3000_WELL_COUNT'] = df['PARENT_3000_WELL_COUNT'].fillna(0)\n",
    "df['CODEV_IN_ZONE_MIN_HYPOT'] = df['CODEV_IN_ZONE_MIN_HYPOT'].fillna(9999)\n",
    "df['CODEV_OUT_ZONE_MIN_HYPOT'] = df['CODEV_OUT_ZONE_MIN_HYPOT'].fillna(9999)\n",
    "df['CODEV_IN_ZONE_MIN_MAP_DIST'] = df['CODEV_IN_ZONE_MIN_MAP_DIST'].fillna(9999)\n",
    "df['CODEV_1050_WELL_COUNT'] = df['CODEV_1050_WELL_COUNT'].fillna(0)\n",
    "df['CODEV_3000_AVG_HYPOT_DIST'] = df['CODEV_3000_AVG_HYPOT_DIST'].fillna(9999)\n",
    "df['CODEV_3000_AVG_MAP_DIST'] = df['CODEV_3000_AVG_MAP_DIST'].fillna(9999)\n",
    "df['CODEV_3000_AVG_TVD_DIST'] = df['CODEV_3000_AVG_TVD_DIST'].fillna(9999)\n",
    "df['CODEV_3000_AVG_WELL_AGE'] = df['CODEV_3000_AVG_WELL_AGE'].fillna(0)\n",
    "df['CODEV_3000_MEDIAN_WELL_AGE'] = df['CODEV_3000_MEDIAN_WELL_AGE'].fillna(0)\n",
    "df['CODEV_3000_WELL_COUNT'] = df['CODEV_3000_WELL_COUNT'].fillna(0)"
   ]
  },
  {
   "cell_type": "markdown",
   "metadata": {},
   "source": [
    "#### Impute the remaining missing values with mean"
   ]
  },
  {
   "cell_type": "code",
   "execution_count": 15,
   "metadata": {
    "ExecuteTime": {
     "end_time": "2024-01-21T02:23:09.943685Z",
     "start_time": "2024-01-21T02:23:09.934940Z"
    }
   },
   "outputs": [],
   "source": [
    "copied_apd = df['Avg Pump Difference'].copy()\n",
    "df=df.apply(lambda col: col.fillna(col.mean()) if pd.api.types.is_numeric_dtype(col) else col)\n",
    "df['Avg Pump Difference'] = copied_apd"
   ]
  },
  {
   "cell_type": "markdown",
   "metadata": {
    "ExecuteTime": {
     "end_time": "2024-01-21T01:57:56.416557Z",
     "start_time": "2024-01-21T01:57:56.412600Z"
    }
   },
   "source": [
    "#### BOUND CODE turned to string value\n",
    "Otherwise bound code like 1111000000 will have an insanely high influence as an outlier when really it is much better interpreted as a categorical string value"
   ]
  },
  {
   "cell_type": "code",
   "execution_count": 16,
   "metadata": {
    "ExecuteTime": {
     "end_time": "2024-01-21T02:23:10.854756Z",
     "start_time": "2024-01-21T02:23:10.851992Z"
    }
   },
   "outputs": [],
   "source": [
    "df['BOUND_CODE'] = df['BOUND_CODE'].astype(str)"
   ]
  },
  {
   "cell_type": "markdown",
   "metadata": {},
   "source": [
    "#### Feature Engineering: Create new features"
   ]
  },
  {
   "cell_type": "markdown",
   "metadata": {},
   "source": [
    "We created no new features "
   ]
  },
  {
   "cell_type": "markdown",
   "metadata": {},
   "source": [
    "# Regression Analysis"
   ]
  },
  {
   "cell_type": "markdown",
   "metadata": {},
   "source": [
    "#### Feature Importance Classifier with Random Forest\n",
    "We wanted to identify correlated values that also had similar feature importances to remove. Note, even though our goal is to find the missing 15 values for average pump difference, we need to fill in these values in order to run feature importance on random forest classifier, as such we will fill these values in with the mean value"
   ]
  },
  {
   "cell_type": "code",
   "execution_count": 17,
   "metadata": {
    "ExecuteTime": {
     "end_time": "2024-01-21T02:23:15.378017Z",
     "start_time": "2024-01-21T02:23:14.941048Z"
    }
   },
   "outputs": [
    {
     "data": {
      "image/png": "[encoded data removed]",
      "text/plain": [
       "<Figure size 1200x800 with 1 Axes>"
      ]
     },
     "metadata": {},
     "output_type": "display_data"
    }
   ],
   "source": [
    "filled_in_apd = df['Avg Pump Difference'].fillna(df['Avg Pump Difference'].mean())\n",
    "X = df.drop(columns=['Well ID', 'Avg Pump Difference', 'Area', 'Fluid System', 'Development Strategy', 'CODEV_POSITION', 'CODEV_FORMATION_POSITION'])\n",
    "y = filled_in_apd\n",
    "\n",
    "# Impute missing values\n",
    "imputer = SimpleImputer(strategy='mean')  # You can choose a different strategy if needed\n",
    "X_imputed = imputer.fit_transform(X)\n",
    "\n",
    "# Split the data into training and testing sets\n",
    "X_train, X_test, y_train, y_test = train_test_split(X_imputed, y, test_size=0.15, random_state=42)\n",
    "\n",
    "# Create a RandomForestRegressor\n",
    "randreg = RandomForestRegressor(random_state=42)\n",
    "\n",
    "# Fit the model\n",
    "randreg.fit(X_train, y_train)\n",
    "\n",
    "# Feature importances\n",
    "features = X.columns\n",
    "importances = randreg.feature_importances_\n",
    "indices = np.argsort(importances)\n",
    "\n",
    "# Plot feature importances\n",
    "plt.figure(figsize=(12, 8))\n",
    "plt.title('Feature Importance')\n",
    "plt.barh(range(len(indices)), importances[indices], color='b', align='center')\n",
    "plt.yticks(range(len(indices)), features[indices])\n",
    "plt.xlabel('Relative Importance')\n",
    "plt.show()"
   ]
  },
  {
   "cell_type": "code",
   "execution_count": 18,
   "metadata": {
    "ExecuteTime": {
     "end_time": "2024-01-21T02:23:17.498621Z",
     "start_time": "2024-01-21T02:23:17.494251Z"
    }
   },
   "outputs": [],
   "source": [
    "# Given rf, we decided to remove the below columns as they had high correlation and similar importance\n",
    "cols_to_drop = ['Well ID',\n",
    "                'Area',\n",
    "                'PARENT_CODEV_1050_WELL_COUNT',\n",
    "                'PARENT_1050_MEDIAN_WELL_AGE',\n",
    "                'PARENT_3000_AVG_HYPOT_DIST',\n",
    "                'PARENT_3000_AVG_MAP_DIST',\n",
    "                'PARENT_3000_MEDIAN_WELL_AGE',\n",
    "                'CODEV_3000_AVG_TVD_DIST',\n",
    "                'CODEV_3000_MEDIAN_WELL_AGE',\n",
    "                'PARENT_OUT_ZONE_MIN_MAP_DIST',\n",
    "                'CODEV_3000_AVG_MAP_DIST',\n",
    "                'PARENT_IN_ZONE_MIN_MAP_DIST',\n",
    "                'CODEV_IN_ZONE_MIN_MAP_DIST',\n",
    "                'PARENT_CODEV_1050_WELL_COUNT',\n",
    "                'CODEV_POSITION']\n",
    "df = df.drop(columns=cols_to_drop)"
   ]
  },
  {
   "cell_type": "markdown",
   "metadata": {},
   "source": [
    "#### Running the linear regression\n",
    "We tested multiple encoders for our categorical data, and different models to determine best model for this prediction."
   ]
  },
  {
   "cell_type": "code",
   "execution_count": 19,
   "metadata": {
    "ExecuteTime": {
     "end_time": "2024-01-21T02:23:22.461158Z",
     "start_time": "2024-01-21T02:23:22.458375Z"
    }
   },
   "outputs": [],
   "source": [
    "# create backup copy of df and change df after by removing the 15 missing apd rows\n",
    "df2 = df.copy()"
   ]
  },
  {
   "cell_type": "code",
   "execution_count": 20,
   "metadata": {
    "ExecuteTime": {
     "end_time": "2024-01-21T02:26:27.950687Z",
     "start_time": "2024-01-21T02:26:27.944972Z"
    }
   },
   "outputs": [],
   "source": [
    "# delete the 15 rows of na apd\n",
    "df2 = df2.dropna()\n",
    "\n",
    "# Label encode the 'Category' column\n",
    "label_encoder = LabelEncoder()\n",
    "categorical_columns = ['BOUND_CODE', 'Fluid System', 'CODEV_FORMATION_POSITION', 'Development Strategy']\n",
    "df2[categorical_columns] = df2[categorical_columns].apply(lambda col: label_encoder.fit_transform(col))\n",
    "X = df2.drop('Avg Pump Difference', axis=1)\n",
    "y = df2['Avg Pump Difference']"
   ]
  },
  {
   "cell_type": "markdown",
   "metadata": {},
   "source": [
    "## Linear Regression"
   ]
  },
  {
   "cell_type": "code",
   "execution_count": 21,
   "metadata": {
    "ExecuteTime": {
     "end_time": "2024-01-21T02:26:35.305850Z",
     "start_time": "2024-01-21T02:26:35.270915Z"
    }
   },
   "outputs": [
    {
     "name": "stdout",
     "output_type": "stream",
     "text": [
      "Mean Squared Error: 319.05815892045666\n",
      "R-squared: 0.3461019968691301\n",
      "Coefficients: [-3.36581384e-04  1.91404996e+00  6.55695390e-03  1.21554198e+00\n",
      " -1.11573324e+01 -7.08072083e-02 -7.71861682e+00 -7.37697507e-04\n",
      " -5.24870511e-04  3.11564382e-03 -7.06117941e-01  1.85993623e-04\n",
      " -4.40416857e-03  3.42154470e-01 -6.61526118e-04  3.52601751e-04\n",
      "  1.48695071e+00  5.39993129e-03  2.21663706e-01 -3.14383181e-01\n",
      " -2.99369011e+02  1.24524445e-02 -1.53126416e-02  3.60585424e-04\n",
      " -6.34536797e-03  1.09995790e-02]\n",
      "Intercept: 178.6600803067485\n"
     ]
    }
   ],
   "source": [
    "X_train, X_test, y_train, y_test = train_test_split(X, y, test_size=0.2, random_state=42)\n",
    "linear_reg_model = LinearRegression()\n",
    "linear_reg_model.fit(X_train, y_train)\n",
    "y_pred = linear_reg_model.predict(X_test)\n",
    "mse = mean_squared_error(y_test, y_pred)\n",
    "r2 = r2_score(y_test, y_pred)\n",
    "print(f\"Mean Squared Error: {mse}\")\n",
    "print(f\"R-squared: {r2}\")\n",
    "print(\"Coefficients:\", linear_reg_model.coef_)\n",
    "print(\"Intercept:\", linear_reg_model.intercept_)"
   ]
  },
  {
   "cell_type": "markdown",
   "metadata": {},
   "source": [
    "## Lasso Regression"
   ]
  },
  {
   "cell_type": "code",
   "execution_count": 22,
   "metadata": {
    "ExecuteTime": {
     "end_time": "2024-01-21T03:14:47.228850Z",
     "start_time": "2024-01-21T03:14:47.176803Z"
    }
   },
   "outputs": [
    {
     "name": "stdout",
     "output_type": "stream",
     "text": [
      "Mean Squared Error: 365.7006054093299\n",
      "R-squared: 0.250510012249748\n",
      "Coefficients: [-1.10810175e-04  2.97602344e+00  8.04778953e-03 -0.00000000e+00\n",
      " -0.00000000e+00 -2.26386620e-01 -0.00000000e+00 -6.36492504e-04\n",
      "  5.74313769e-04  2.90881120e-03 -0.00000000e+00 -4.85164594e-04\n",
      " -4.12955706e-03  3.89432010e-01 -3.23738256e-04 -1.60537327e-04\n",
      "  0.00000000e+00 -1.12783588e-04  7.71070743e-03  4.61463663e-01\n",
      " -0.00000000e+00  1.03069020e-02 -2.75452634e-02 -3.34834507e-05\n",
      " -6.35142782e-03  8.03109509e-03]\n",
      "Intercept: 39.92727257790125\n"
     ]
    }
   ],
   "source": [
    "X_train, X_test, y_train, y_test = train_test_split(X, y, test_size=0.2, random_state=42)\n",
    "lasso_model = Lasso(alpha=1.0)\n",
    "lasso_model.fit(X_train, y_train)\n",
    "y_pred = lasso_model.predict(X_test)\n",
    "mse = mean_squared_error(y_test, y_pred)\n",
    "r2 = r2_score(y_test, y_pred)\n",
    "print(f\"Mean Squared Error: {mse}\")\n",
    "print(f\"R-squared: {r2}\")\n",
    "print(\"Coefficients:\", lasso_model.coef_)\n",
    "print(\"Intercept:\", lasso_model.intercept_)"
   ]
  },
  {
   "cell_type": "markdown",
   "metadata": {},
   "source": [
    "## Ridge Regression"
   ]
  },
  {
   "cell_type": "code",
   "execution_count": 23,
   "metadata": {
    "ExecuteTime": {
     "end_time": "2024-01-21T03:16:29.817479Z",
     "start_time": "2024-01-21T03:16:29.808924Z"
    }
   },
   "outputs": [
    {
     "name": "stdout",
     "output_type": "stream",
     "text": [
      "Mean Squared Error: 346.26217431665197\n",
      "R-squared: 0.2903483643498992\n",
      "Coefficients: [-2.38247143e-04  3.53773295e+00  7.60694216e-03 -8.93670117e-01\n",
      " -8.71184040e+00 -2.22501013e-01 -7.06517427e+00 -5.69007359e-04\n",
      " -2.49330871e-04  3.21129003e-03  2.67242925e-02 -2.14564982e-04\n",
      " -4.02464417e-03  4.66368739e-01 -1.84007938e-04  2.66700091e-05\n",
      "  1.35087940e+00  1.23773422e-03  9.11565256e-02  4.20310698e-01\n",
      " -3.71811192e+01  1.19134812e-02 -2.55636938e-02 -1.77766349e-03\n",
      " -5.92590086e-03  8.65086132e-03]\n",
      "Intercept: 61.405321932278994\n"
     ]
    }
   ],
   "source": [
    "X_train, X_test, y_train, y_test = train_test_split(X, y, test_size=0.2, random_state=42)\n",
    "ridge_model = Ridge(alpha=1.0)\n",
    "ridge_model.fit(X_train, y_train)\n",
    "y_pred = ridge_model.predict(X_test)\n",
    "mse = mean_squared_error(y_test, y_pred)\n",
    "r2 = r2_score(y_test, y_pred)\n",
    "print(f\"Mean Squared Error: {mse}\")\n",
    "print(f\"R-squared: {r2}\")\n",
    "print(\"Coefficients:\", ridge_model.coef_)\n",
    "print(\"Intercept:\", ridge_model.intercept_)"
   ]
  },
  {
   "cell_type": "markdown",
   "metadata": {},
   "source": [
    "## Decision Tree Regression"
   ]
  },
  {
   "cell_type": "code",
   "execution_count": 24,
   "metadata": {
    "ExecuteTime": {
     "end_time": "2024-01-21T03:18:09.870176Z",
     "start_time": "2024-01-21T03:18:09.861215Z"
    }
   },
   "outputs": [
    {
     "name": "stdout",
     "output_type": "stream",
     "text": [
      "Mean Squared Error: 481.69232238805967\n",
      "R-squared: 0.012789239432834942\n"
     ]
    }
   ],
   "source": [
    "X_train, X_test, y_train, y_test = train_test_split(X, y, test_size=0.2, random_state=42)\n",
    "decision_tree_model = DecisionTreeRegressor()\n",
    "decision_tree_model.fit(X_train, y_train)\n",
    "y_pred = decision_tree_model.predict(X_test)\n",
    "mse = mean_squared_error(y_test, y_pred)\n",
    "r2 = r2_score(y_test, y_pred)\n",
    "print(f\"Mean Squared Error: {mse}\")\n",
    "print(f\"R-squared: {r2}\")"
   ]
  },
  {
   "cell_type": "markdown",
   "metadata": {},
   "source": [
    "## Random Forest Regression"
   ]
  },
  {
   "cell_type": "code",
   "execution_count": 25,
   "metadata": {
    "ExecuteTime": {
     "end_time": "2024-01-21T03:19:33.088884Z",
     "start_time": "2024-01-21T03:19:32.901032Z"
    }
   },
   "outputs": [
    {
     "name": "stdout",
     "output_type": "stream",
     "text": [
      "Mean Squared Error: 256.7125531937314\n",
      "R-squared: 0.4738770308210243\n"
     ]
    }
   ],
   "source": [
    "X_train, X_test, y_train, y_test = train_test_split(X, y, test_size=0.2, random_state=42)\n",
    "random_forest_model = RandomForestRegressor(n_estimators=100, random_state=42)\n",
    "random_forest_model.fit(X_train, y_train)\n",
    "y_pred = random_forest_model.predict(X_test)\n",
    "mse = mean_squared_error(y_test, y_pred)\n",
    "r2 = r2_score(y_test, y_pred)   \n",
    "print(f\"Mean Squared Error: {mse}\")\n",
    "print(f\"R-squared: {r2}\")"
   ]
  },
  {
   "cell_type": "code",
   "execution_count": 30,
   "metadata": {},
   "outputs": [
    {
     "name": "stdout",
     "output_type": "stream",
     "text": [
      "Mean Squared Error (KNN): 564.3456668325041\n",
      "R-squared (KNN): -0.1566057607363487\n"
     ]
    }
   ],
   "source": [
    "\n",
    "#KNN\n",
    "# Import necessary libraries\n",
    "from sklearn.model_selection import train_test_split\n",
    "from sklearn.neighbors import KNeighborsRegressor\n",
    "from sklearn.metrics import mean_squared_error, r2_score\n",
    "\n",
    "# Split the dataset into training and testing sets\n",
    "X_train, X_test, y_train, y_test = train_test_split(X, y, test_size=0.2, random_state=42)\n",
    "\n",
    "# Initialize the KNN regressor with the desired number of neighbors (e.g., 3)\n",
    "knn_regressor = KNeighborsRegressor(n_neighbors=3)\n",
    "\n",
    "# Train the KNN regressor on the training data\n",
    "knn_regressor.fit(X_train, y_train)\n",
    "\n",
    "# Make predictions on the testing data\n",
    "y_pred_knn = knn_regressor.predict(X_test)\n",
    "\n",
    "# Evaluate the performance of the KNN regressor\n",
    "mse_knn = mean_squared_error(y_test, y_pred_knn)\n",
    "r2_knn = r2_score(y_test, y_pred_knn)\n",
    "\n",
    "# Print the results\n",
    "print(f\"Mean Squared Error (KNN): {mse_knn}\")\n",
    "print(f\"R-squared (KNN): {r2_knn}\")\n"
   ]
  },
  {
   "cell_type": "code",
   "execution_count": 38,
   "metadata": {},
   "outputs": [
    {
     "name": "stdout",
     "output_type": "stream",
     "text": [
      "Mean Squared Error (KNN with PCA): 520.8582023217248\n",
      "R-squared (KNN with PCA): -0.0674797960500404\n"
     ]
    }
   ],
   "source": [
    "# Import necessary libraries\n",
    "from sklearn.decomposition import PCA\n",
    "from sklearn.preprocessing import StandardScaler\n",
    "from sklearn.model_selection import train_test_split\n",
    "from sklearn.neighbors import KNeighborsRegressor\n",
    "from sklearn.metrics import mean_squared_error, r2_score\n",
    "\n",
    "# Assuming you have X_train, X_test, y_train, y_test from the previous code\n",
    "\n",
    "# Standardize the features\n",
    "scaler = StandardScaler()\n",
    "X_train_scaled = scaler.fit_transform(X_train)\n",
    "X_test_scaled = scaler.transform(X_test)\n",
    "\n",
    "# Initialize PCA with the desired number of components (e.g., 2)\n",
    "pca = PCA(n_components=2)\n",
    "\n",
    "# Fit and transform the training data\n",
    "X_train_pca = pca.fit_transform(X_train_scaled)\n",
    "\n",
    "# Transform the testing data using the same PCA model\n",
    "X_test_pca = pca.transform(X_test_scaled)\n",
    "\n",
    "# Initialize the KNN regressor with the desired number of neighbors (e.g., 3)\n",
    "knn_regressor_pca = KNeighborsRegressor(n_neighbors=3)\n",
    "\n",
    "# Train the KNN regressor on the PCA-transformed training data\n",
    "knn_regressor_pca.fit(X_train_pca, y_train)\n",
    "\n",
    "# Make predictions on the PCA-transformed testing data\n",
    "y_pred_knn_pca = knn_regressor_pca.predict(X_test_pca)\n",
    "\n",
    "# Evaluate the performance of the KNN regressor with PCA\n",
    "mse_knn_pca = mean_squared_error(y_test, y_pred_knn_pca)\n",
    "r2_knn_pca = r2_score(y_test, y_pred_knn_pca)\n",
    "\n",
    "# Print the results\n",
    "print(f\"Mean Squared Error (KNN with PCA): {mse_knn_pca}\")\n",
    "print(f\"R-squared (KNN with PCA): {r2_knn_pca}\")\n"
   ]
  },
  {
   "cell_type": "code",
   "execution_count": 46,
   "metadata": {},
   "outputs": [
    {
     "name": "stdout",
     "output_type": "stream",
     "text": [
      "Mean Squared Error (PCA + Regression): 282.12249558567163\n",
      "R-squared (PCA + Regression): 0.42180028517070367\n"
     ]
    }
   ],
   "source": [
    "# Import necessary libraries\n",
    "from sklearn.decomposition import PCA\n",
    "from sklearn.preprocessing import StandardScaler\n",
    "from sklearn.model_selection import train_test_split\n",
    "from sklearn.metrics import mean_squared_error, r2_score\n",
    "\n",
    "# Assuming you have X_train, X_test, y_train, y_test from the previous code\n",
    "\n",
    "# Standardize the features\n",
    "scaler = StandardScaler()\n",
    "X_train_scaled = scaler.fit_transform(X_train)\n",
    "X_test_scaled = scaler.transform(X_test)\n",
    "\n",
    "# Initialize PCA with the desired number of components (e.g., 2)\n",
    "pca = PCA(n_components=3)\n",
    "\n",
    "# Fit and transform the training data\n",
    "X_train_pca = pca.fit_transform(X_train_scaled)\n",
    "\n",
    "# Transform the testing data using the same PCA model\n",
    "X_test_pca = pca.transform(X_test_scaled)\n",
    "\n",
    "# Your regression model (for example, RandomForestRegressor)\n",
    "# Replace the following lines with the regression model of your choice\n",
    "from sklearn.ensemble import RandomForestRegressor\n",
    "\n",
    "# Initialize the RandomForestRegressor with your preferred parameters\n",
    "regression_model = RandomForestRegressor(n_estimators=100, random_state=42)\n",
    "\n",
    "# Train the regression model on the PCA-transformed training data\n",
    "regression_model.fit(X_train_pca, y_train)\n",
    "\n",
    "# Make predictions on the PCA-transformed testing data\n",
    "y_pred_pca = regression_model.predict(X_test_pca)\n",
    "\n",
    "# Evaluate the performance of the regression model with PCA\n",
    "mse_pca = mean_squared_error(y_test, y_pred_pca)\n",
    "r2_pca = r2_score(y_test, y_pred_pca)\n",
    "\n",
    "# Print the results\n",
    "print(f\"Mean Squared Error (PCA + Regression): {mse_pca}\")\n",
    "print(f\"R-squared (PCA + Regression): {r2_pca}\")\n"
   ]
  },
  {
   "cell_type": "code",
   "execution_count": null,
   "metadata": {},
   "outputs": [],
   "source": []
  }
 ],
 "metadata": {
  "kernelspec": {
   "display_name": "Python 3 (ipykernel)",
   "language": "python",
   "name": "python3"
  },
  "language_info": {
   "codemirror_mode": {
    "name": "ipython",
    "version": 3
   },
   "file_extension": ".py",
   "mimetype": "text/x-python",
   "name": "python",
   "nbconvert_exporter": "python",
   "pygments_lexer": "ipython3",
   "version": "3.11.7"
  }
 },
 "nbformat": 4,
 "nbformat_minor": 2
}
